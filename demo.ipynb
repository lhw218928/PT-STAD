{
 "cells": [
  {
   "cell_type": "code",
   "execution_count": 1,
   "id": "initial_id",
   "metadata": {
    "collapsed": true,
    "ExecuteTime": {
     "end_time": "2025-02-22T10:04:44.795324900Z",
     "start_time": "2025-02-22T10:04:43.514632800Z"
    }
   },
   "outputs": [],
   "source": [
    "import numpy as np\n",
    "import os\n",
    "import torch\n",
    "import datetime\n",
    "from args import get_parser\n",
    "from utils import get_data,get_target_dims,SlidingWindowDataset,create_data_loaders"
   ]
  },
  {
   "cell_type": "code",
   "outputs": [],
   "source": [
    "dataset = \"SMAP\"\n",
    "window_size = 30\n",
    "window_num = 10\n",
    "normalize = False\n",
    "group = 2\n",
    "group_index = 2\n",
    "index = 2"
   ],
   "metadata": {
    "collapsed": false,
    "ExecuteTime": {
     "end_time": "2025-02-22T10:07:59.197130100Z",
     "start_time": "2025-02-22T10:07:59.192090Z"
    }
   },
   "id": "feab0c773aaf521d",
   "execution_count": 16
  },
  {
   "cell_type": "code",
   "outputs": [
    {
     "name": "stdout",
     "output_type": "stream",
     "text": [
      "load data of: SMAP\n",
      "train:  0 None\n",
      "test:  0 None\n",
      "train set shape:  (135183, 25)\n",
      "test set shape:  (427617, 25)\n",
      "test set label shape:  (427617,)\n"
     ]
    }
   ],
   "source": [
    "if dataset == 'SMD':\n",
    "    output_path = f'output/SMD/{group}'\n",
    "    (x_train, _), (x_test, y_test) = get_data(f\"machine-{group_index}-{index}\", normalize=normalize)\n",
    "elif dataset in ['MSL', 'SMAP']:\n",
    "    output_path = f'output/{dataset}'\n",
    "    (x_train, _), (x_test, y_test) = get_data(dataset, normalize=normalize)\n",
    "else:\n",
    "    # raise Exception(f'Dataset \"{dataset}\" not available.')\n",
    "    print('Invalid dataset')"
   ],
   "metadata": {
    "collapsed": false,
    "ExecuteTime": {
     "end_time": "2025-02-22T10:07:59.747117Z",
     "start_time": "2025-02-22T10:07:59.674116800Z"
    }
   },
   "id": "23c6410ba806eb4b",
   "execution_count": 17
  },
  {
   "cell_type": "code",
   "outputs": [
    {
     "data": {
      "text/plain": "array([[0.999, 0.   , 0.   , ..., 0.   , 0.   , 0.   ],\n       [0.999, 0.   , 0.   , ..., 0.   , 0.   , 0.   ],\n       [0.999, 0.   , 0.   , ..., 0.   , 0.   , 0.   ],\n       ...,\n       [0.999, 0.   , 0.   , ..., 0.   , 0.   , 0.   ],\n       [0.999, 0.   , 0.   , ..., 0.   , 0.   , 0.   ],\n       [0.999, 0.   , 0.   , ..., 0.   , 0.   , 0.   ]])"
     },
     "execution_count": 18,
     "metadata": {},
     "output_type": "execute_result"
    }
   ],
   "source": [
    "x_train[:100]"
   ],
   "metadata": {
    "collapsed": false,
    "ExecuteTime": {
     "end_time": "2025-02-22T10:08:01.285612900Z",
     "start_time": "2025-02-22T10:08:01.264612800Z"
    }
   },
   "id": "d2d424b424eeeb2f",
   "execution_count": 18
  },
  {
   "cell_type": "code",
   "outputs": [
    {
     "name": "stdout",
     "output_type": "stream",
     "text": [
      "Will forecast and reconstruct all 55 input features\n"
     ]
    }
   ],
   "source": [
    "log_dir = f'{output_path}/logs'\n",
    "if not os.path.exists(output_path):\n",
    "    os.makedirs(output_path)\n",
    "if not os.path.exists(log_dir):\n",
    "    os.makedirs(log_dir)\n",
    "save_path = f\"{output_path}/{id}\"\n",
    "\n",
    "x_train = torch.from_numpy(x_train).float()\n",
    "x_test = torch.from_numpy(x_test).float()\n",
    "n_features = x_train.shape[1]\n",
    "target_dims = get_target_dims(dataset)\n",
    "\n",
    "if target_dims is None:\n",
    "    out_dim = n_features\n",
    "    print(f\"Will forecast and reconstruct all {n_features} input features\")\n",
    "elif type(target_dims) == int:\n",
    "    print(f\"Will forecast and reconstruct input feature: {target_dims}\")\n",
    "    out_dim = 1\n",
    "else:\n",
    "    print(f\"Will forecast and reconstruct input features: {target_dims}\")\n",
    "    out_dim = len(target_dims)"
   ],
   "metadata": {
    "collapsed": false,
    "ExecuteTime": {
     "end_time": "2025-02-22T10:06:21.248744600Z",
     "start_time": "2025-02-22T10:06:21.214373700Z"
    }
   },
   "id": "5f1cd162befc5295",
   "execution_count": 11
  },
  {
   "cell_type": "code",
   "outputs": [],
   "source": [
    "train_dataset = SlidingWindowDataset(data = x_train, window_size = window_size, window_num = window_num, target_dim = target_dims)\n",
    "test_dataset = SlidingWindowDataset(data = x_test, window_size = window_size, window_num = window_num, target_dim = target_dims)"
   ],
   "metadata": {
    "collapsed": false,
    "ExecuteTime": {
     "end_time": "2025-02-22T10:06:26.520776500Z",
     "start_time": "2025-02-22T10:06:26.510778400Z"
    }
   },
   "id": "1812af880abeb05d",
   "execution_count": 12
  },
  {
   "cell_type": "code",
   "outputs": [
    {
     "name": "stdout",
     "output_type": "stream",
     "text": [
      "1933\n"
     ]
    }
   ],
   "source": [
    "print(len(train_dataset))"
   ],
   "metadata": {
    "collapsed": false,
    "ExecuteTime": {
     "end_time": "2025-02-22T10:06:27.704651Z",
     "start_time": "2025-02-22T10:06:27.682653400Z"
    }
   },
   "id": "58a3cee00f48874c",
   "execution_count": 13
  },
  {
   "cell_type": "code",
   "outputs": [
    {
     "name": "stdout",
     "output_type": "stream",
     "text": [
      "2447\n"
     ]
    }
   ],
   "source": [
    "print(len(test_dataset))"
   ],
   "metadata": {
    "collapsed": false,
    "ExecuteTime": {
     "end_time": "2025-02-22T10:06:28.558563900Z",
     "start_time": "2025-02-22T10:06:28.537544200Z"
    }
   },
   "id": "7f09ab7d32024cf6",
   "execution_count": 14
  },
  {
   "cell_type": "code",
   "outputs": [
    {
     "name": "stderr",
     "output_type": "stream",
     "text": [
      "D:\\Lhw\\Anaconda3\\envs\\pytorch\\lib\\site-packages\\statsmodels\\tsa\\stattools.py:1488: FutureWarning: verbose is deprecated since functions should not print results\n",
      "  warnings.warn(\n"
     ]
    },
    {
     "name": "stdout",
     "output_type": "stream",
     "text": [
      "格兰杰因果关系矩阵（p值）：\n",
      "          X1        X2        X3        X4        X5\n",
      "X1  0.000000  0.605560  0.098669  0.360827  0.200625\n",
      "X2  0.009095  0.000000  0.498532  0.433394  0.090624\n",
      "X3  0.182548  0.715554  0.000000  0.301804  0.431211\n",
      "X4  0.040313  0.221411  0.091700  0.000000  0.618744\n",
      "X5  0.058100  0.333694  0.563909  0.497535  0.000000\n"
     ]
    },
    {
     "data": {
      "text/plain": "<Figure size 800x600 with 2 Axes>",
      "image/png": "[encoded data removed]"
     },
     "metadata": {},
     "output_type": "display_data"
    }
   ],
   "source": [
    "import numpy as np\n",
    "import pandas as pd\n",
    "from statsmodels.tsa.stattools import grangercausalitytests\n",
    "import seaborn as sns\n",
    "import matplotlib.pyplot as plt\n",
    "from matplotlib import rcParams\n",
    "rcParams['font.family'] = 'SimHei' \n",
    "# import warnings\n",
    "# warnings.filterwarnings(\"ignore\")\n",
    "\n",
    "# 示例数据：N个变量，T个时间点\n",
    "N = 5  # 变量数量\n",
    "T = 100  # 时间点数量\n",
    "data = np.random.randn(T, N)  # 随机生成时间序列数据\n",
    "df = pd.DataFrame(data, columns=[f'X{i+1}' for i in range(N)])  # 转换为DataFrame\n",
    "\n",
    "# 格兰杰因果检验\n",
    "max_lag = 4  # 最大滞后阶数\n",
    "causality_matrix = np.zeros((N, N))  # 初始化因果关系矩阵\n",
    "\n",
    "# 对每对变量进行格兰杰因果检验\n",
    "for i in range(N):\n",
    "    for j in range(N):\n",
    "        if i != j:  # 排除自身\n",
    "            # 提取两个变量的时间序列\n",
    "            test_data = df[[df.columns[j], df.columns[i]]]  # X_j -> X_i\n",
    "            # 进行格兰杰因果检验\n",
    "            test_result = grangercausalitytests(test_data, maxlag=max_lag, verbose=False)\n",
    "            # 提取所有滞后阶数的p值\n",
    "            p_values = [test_result[lag + 1][0]['ssr_ftest'][1] for lag in range(max_lag)]\n",
    "            # 取最小p值作为因果关系的显著性\n",
    "            min_p_value = min(p_values)\n",
    "            causality_matrix[i, j] = min_p_value\n",
    "\n",
    "# 输出因果关系矩阵\n",
    "print(\"格兰杰因果关系矩阵（p值）：\")\n",
    "print(pd.DataFrame(causality_matrix, columns=df.columns, index=df.columns))\n",
    "\n",
    "# 可视化因果关系矩阵\n",
    "plt.figure(figsize=(8, 6))\n",
    "sns.heatmap(causality_matrix, annot=True, fmt=\".2f\", cmap=\"viridis\",\n",
    "            xticklabels=df.columns, yticklabels=df.columns)\n",
    "plt.title(\"格兰杰因果关系矩阵（p值）\")\n",
    "plt.xlabel(\"Cause\")\n",
    "plt.ylabel(\"Effect\")\n",
    "plt.show()"
   ],
   "metadata": {
    "collapsed": false,
    "ExecuteTime": {
     "end_time": "2025-02-22T10:06:29.807620300Z",
     "start_time": "2025-02-22T10:06:29.508506900Z"
    }
   },
   "id": "ec4e7735f8a82abf",
   "execution_count": 15
  },
  {
   "cell_type": "code",
   "outputs": [],
   "source": [],
   "metadata": {
    "collapsed": false
   },
   "id": "f65b3f60231dc492"
  }
 ],
 "metadata": {
  "kernelspec": {
   "name": "python3",
   "language": "python",
   "display_name": "Python 3 (ipykernel)"
  },
  "language_info": {
   "codemirror_mode": {
    "name": "ipython",
    "version": 2
   },
   "file_extension": ".py",
   "mimetype": "text/x-python",
   "name": "python",
   "nbconvert_exporter": "python",
   "pygments_lexer": "ipython2",
   "version": "2.7.6"
  }
 },
 "nbformat": 4,
 "nbformat_minor": 5
}
